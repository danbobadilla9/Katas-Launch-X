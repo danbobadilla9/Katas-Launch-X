{
 "cells": [
  {
   "cell_type": "markdown",
   "metadata": {},
   "source": [
    "# Primer Programa"
   ]
  },
  {
   "cell_type": "code",
   "execution_count": 3,
   "metadata": {},
   "outputs": [
    {
     "name": "stdout",
     "output_type": "stream",
     "text": [
      "El numero de planetas almacenados en la lista es: 8\n",
      "El numero de planetas almacenados en la lista es: 9Y el ultimo planeta es: Pluton\n"
     ]
    }
   ],
   "source": [
    "planetas = ['Mercurio', 'Venus', 'Tierra', 'Marte', 'Jupiter',  'Saturno', 'Urano' , 'Neptuno']\n",
    "print('El numero de planetas almacenados en la lista es: '+str(len(planetas)))\n",
    "planetas.append('Pluton')\n",
    "print('El numero de planetas almacenados en la lista es: '+str(len(planetas))+'Y el ultimo planeta es: '+planetas[-1])\n"
   ]
  },
  {
   "cell_type": "markdown",
   "metadata": {},
   "source": [
    "\n",
    "# Segundo Programa"
   ]
  },
  {
   "cell_type": "code",
   "execution_count": 14,
   "metadata": {},
   "outputs": [
    {
     "name": "stdout",
     "output_type": "stream",
     "text": [
      "Planetas mas cercanos al sol ['Mercury', 'Venus', 'Earth']\n",
      "Planetas mas lejanos al sol ['Saturn', 'Neptune']\n"
     ]
    }
   ],
   "source": [
    "planets = ['Mercury', 'Venus', 'Earth', 'Mars', 'Jupiter', 'Saturn', 'Neptune']\n",
    "nuevoP = input('Ingrese un nuevo planeta inciando con mayusculas')\n",
    "indice = planets.index(nuevoP)\n",
    "# cercano\n",
    "cercano = planets[0:indice-1]\n",
    "print('Planetas mas cercanos al sol '+str(cercano))\n",
    "lejano = planets[indice+1:len(planets)]\n",
    "print('Planetas mas lejanos al sol '+str(lejano))"
   ]
  }
 ],
 "metadata": {
  "interpreter": {
   "hash": "2be5faf79681da6f2a61fdfdd5405d65d042280f7fba6178067603e3a2925119"
  },
  "kernelspec": {
   "display_name": "Python 3.10.2 64-bit",
   "language": "python",
   "name": "python3"
  },
  "language_info": {
   "codemirror_mode": {
    "name": "ipython",
    "version": 3
   },
   "file_extension": ".py",
   "mimetype": "text/x-python",
   "name": "python",
   "nbconvert_exporter": "python",
   "pygments_lexer": "ipython3",
   "version": "3.10.2"
  },
  "orig_nbformat": 4
 },
 "nbformat": 4,
 "nbformat_minor": 2
}
