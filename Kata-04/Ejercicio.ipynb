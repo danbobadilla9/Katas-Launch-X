{
 "cells": [
  {
   "cell_type": "markdown",
   "metadata": {},
   "source": [
    "# Primer Programa"
   ]
  },
  {
   "cell_type": "code",
   "execution_count": 11,
   "metadata": {},
   "outputs": [
    {
     "name": "stdout",
     "output_type": "stream",
     "text": [
      " \n",
      "On average, the Moon moves 4cm away from the Earth every year\n",
      " The highest daylight temperature of the Moon is 127 Celsius\n"
     ]
    }
   ],
   "source": [
    "text = \"\"\"Interesting facts about the Moon. The Moon is Earth's only satellite. There are several interesting facts about the Moon and how it affects life here on Earth. \n",
    "On average, the Moon moves 4cm away from the Earth every year. This yearly drift is not significant enough to cause immediate effects on Earth. The highest daylight temperature of the Moon is 127 C.\"\"\"\n",
    "\n",
    "oraciones = text.split('.')\n",
    "palabras = ['average','temperature ','distance']\n",
    "\n",
    "for palabra in oraciones:\n",
    "    for item in palabras:\n",
    "        if item in palabra:\n",
    "            print(palabra.replace('C','Celsius'))"
   ]
  },
  {
   "cell_type": "markdown",
   "metadata": {},
   "source": [
    "# Segundo Programa"
   ]
  },
  {
   "cell_type": "code",
   "execution_count": 15,
   "metadata": {},
   "outputs": [
    {
     "name": "stdout",
     "output_type": "stream",
     "text": [
      "\n",
      "            Datos sobre la gravedad en Moon\n",
      "            --------------------------------------------------\n",
      "            Planeta: Earth\n",
      "            Gravedad en Earth: 1.6199999999999999 m/s2\n",
      "\n",
      "\n",
      "    Datos sobre la gravedad en Ganímedes\n",
      "    --------------------------------------------------\n",
      "    planeta: Marte \n",
      "    Gravedad en Marte : 1.4300000000000002 m/s2\n",
      "\n"
     ]
    }
   ],
   "source": [
    "name = \"Moon\"\n",
    "gravity = 0.00162 # in kms\n",
    "planet = \"Earth\"\n",
    "\n",
    "titulo = f'Datos sobre la gravedad en {name}'\n",
    "cuerpo = f\"\"\"{'-'*50}\n",
    "            Planeta: {planet}\n",
    "            Gravedad en {planet}: {gravity*1000} m/s2\"\"\"\n",
    "informacion = f\"\"\"\n",
    "            {titulo}\n",
    "            {cuerpo}\n",
    "\"\"\"\n",
    "print(informacion)\n",
    "\n",
    "planet = 'Marte '\n",
    "gravity  = 0.00143\n",
    "name = 'Ganímedes'\n",
    "informacion2 = \"\"\"\n",
    "    Datos sobre la gravedad en {name}\n",
    "    {guion}\n",
    "    planeta: {planet}\n",
    "    Gravedad en {planet}: {gravity} m/s2\n",
    "\"\"\"\n",
    "print(informacion2.format(name=name, planet=planet, gravity=gravity*1000,guion = '-'*50))\n"
   ]
  }
 ],
 "metadata": {
  "interpreter": {
   "hash": "2be5faf79681da6f2a61fdfdd5405d65d042280f7fba6178067603e3a2925119"
  },
  "kernelspec": {
   "display_name": "Python 3.10.2 64-bit",
   "language": "python",
   "name": "python3"
  },
  "language_info": {
   "codemirror_mode": {
    "name": "ipython",
    "version": 3
   },
   "file_extension": ".py",
   "mimetype": "text/x-python",
   "name": "python",
   "nbconvert_exporter": "python",
   "pygments_lexer": "ipython3",
   "version": "3.10.2"
  },
  "orig_nbformat": 4
 },
 "nbformat": 4,
 "nbformat_minor": 2
}
