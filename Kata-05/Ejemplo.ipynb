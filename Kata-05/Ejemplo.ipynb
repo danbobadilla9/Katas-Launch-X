{
 "cells": [
  {
   "cell_type": "markdown",
   "metadata": {},
   "source": [
    "# Primer Programa"
   ]
  },
  {
   "cell_type": "code",
   "execution_count": 6,
   "metadata": {},
   "outputs": [
    {
     "name": "stdout",
     "output_type": "stream",
     "text": [
      "Distancia en KM: 628949330\n",
      "Distancia en Millas: 390577533930\n"
     ]
    }
   ],
   "source": [
    "disT = 149597870\n",
    "disJ = 778547200\n",
    "\n",
    "distanciaTotal = abs((disT - disJ))\n",
    "\n",
    "print('Distancia en KM: '+str(distanciaTotal))\n",
    "print('Distancia en Millas: '+str(distanciaTotal*621))"
   ]
  },
  {
   "cell_type": "markdown",
   "metadata": {},
   "source": [
    "# Segundo Programa"
   ]
  },
  {
   "cell_type": "code",
   "execution_count": 7,
   "metadata": {},
   "outputs": [
    {
     "name": "stdout",
     "output_type": "stream",
     "text": [
      "La distancia entre los planetas en KM es: 628949330\n",
      "La distancia entre los planetas en Millas es: 390577533.93\n"
     ]
    }
   ],
   "source": [
    "distancia1 = int(input('Ingresa la distancia del planeta 1 '))\n",
    "distancia2 = int(input('Ingresa la distancia del planeta 2 '))\n",
    "\n",
    "print('La distancia entre los planetas en KM es: '+str(abs(distancia1 - distancia2)))\n",
    "print('La distancia entre los planetas en Millas es: '+str(abs(distancia1 - distancia2)*.621))"
   ]
  }
 ],
 "metadata": {
  "interpreter": {
   "hash": "2be5faf79681da6f2a61fdfdd5405d65d042280f7fba6178067603e3a2925119"
  },
  "kernelspec": {
   "display_name": "Python 3.10.2 64-bit",
   "language": "python",
   "name": "python3"
  },
  "language_info": {
   "codemirror_mode": {
    "name": "ipython",
    "version": 3
   },
   "file_extension": ".py",
   "mimetype": "text/x-python",
   "name": "python",
   "nbconvert_exporter": "python",
   "pygments_lexer": "ipython3",
   "version": "3.10.2"
  },
  "orig_nbformat": 4
 },
 "nbformat": 4,
 "nbformat_minor": 2
}
