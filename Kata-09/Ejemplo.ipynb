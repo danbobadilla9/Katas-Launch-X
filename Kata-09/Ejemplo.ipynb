{
 "cells": [
  {
   "cell_type": "markdown",
   "metadata": {},
   "source": [
    "# Primer Programa\n"
   ]
  },
  {
   "cell_type": "code",
   "execution_count": 6,
   "metadata": {},
   "outputs": [
    {
     "name": "stdout",
     "output_type": "stream",
     "text": [
      "Medida de gasolina en el tanque es % es: Tanque 1: 10% Tanque 2: 20% Tanque 3: 10%\n",
      "El promedio de los tanques es: 13.333333333333334\n"
     ]
    }
   ],
   "source": [
    "def getTanque (tank1,tank2,tank3): \n",
    "    aux = (tank1 + tank2 + tank3)/3\n",
    "    print('Medida de gasolina en el tanque es % es: Tanque 1: '+str(tank1)+'% Tanque 2: '+str(tank2)+'% Tanque 3: '+str(tank3)+'%')\n",
    "    print('El promedio de los tanques es: '+str(promedio(tank1+tank2+tank3)))\n",
    "\n",
    "def promedio (suma):\n",
    "    return suma/3\n",
    "\n",
    "getTanque(10,20,10)"
   ]
  },
  {
   "cell_type": "markdown",
   "metadata": {},
   "source": [
    "# Segundo Programa"
   ]
  },
  {
   "cell_type": "code",
   "execution_count": 7,
   "metadata": {},
   "outputs": [
    {
     "name": "stdout",
     "output_type": "stream",
     "text": [
      "Hora de prelanzamiento: 10 Tiempo de vuelo: 20 Destino: Luna Tanque Externo: 15 Tanque Interno: 10\n"
     ]
    }
   ],
   "source": [
    "def primerFuncion (prelanzamiento,tiempo,destino,tanqueE,tanqueI): \n",
    "    print('Hora de prelanzamiento: '+str(prelanzamiento)+' Tiempo de vuelo: '+str(tiempo)+' Destino: '+str(destino)+' Tanque Externo: '+str(tanqueE)+' Tanque Interno: '+str(tanqueI))\n",
    "\n",
    "primerFuncion(10,20,'Luna',15,10)\n",
    "\n",
    "# Escribe tu nueva función de reporte considerando lo anterior\n",
    "\n",
    "def mission_report(destination, *minutes, **fuel_reservoirs):\n",
    "    return f\"\"\"\n",
    "    Mission to {destination}\n",
    "    Total travel time: {sum(minutes)} minutes\n",
    "    Total fuel left: {sum(fuel_reservoirs.values())}\n",
    "    \"\"\"\n",
    "\n",
    "print(mission_report(\"Moon\", 10, 15, 51, main=300000, external=200000))\n",
    "\n",
    "def mission_report(destination, *minutes, **fuel_reservoirs):\n",
    "    main_report = f\"\"\"\n",
    "    Mission to {destination}\n",
    "    Total travel time: {sum(minutes)} minutes\n",
    "    Total fuel left: {sum(fuel_reservoirs.values())}\n",
    "    \"\"\"\n",
    "    for tank_name, gallons in fuel_reservoirs.items():\n",
    "        main_report += f\"{tank_name} tank --> {gallons} gallons left\\n\"\n",
    "    return main_report\n",
    "\n",
    "print(mission_report(\"Moon\", 8, 11, 55, main=300000, external=200000))"
   ]
  }
 ],
 "metadata": {
  "interpreter": {
   "hash": "2be5faf79681da6f2a61fdfdd5405d65d042280f7fba6178067603e3a2925119"
  },
  "kernelspec": {
   "display_name": "Python 3.10.2 64-bit",
   "language": "python",
   "name": "python3"
  },
  "language_info": {
   "codemirror_mode": {
    "name": "ipython",
    "version": 3
   },
   "file_extension": ".py",
   "mimetype": "text/x-python",
   "name": "python",
   "nbconvert_exporter": "python",
   "pygments_lexer": "ipython3",
   "version": "3.10.2"
  },
  "orig_nbformat": 4
 },
 "nbformat": 4,
 "nbformat_minor": 2
}
